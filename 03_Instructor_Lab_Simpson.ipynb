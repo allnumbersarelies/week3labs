{
 "cells": [
  {
   "cell_type": "markdown",
   "id": "404acd72",
   "metadata": {},
   "source": [
    "# Instructor-Led Lab\n",
    "\n",
    "\n",
    "Hello and Welcome to my Instructor-led lab for Week 3!\n",
    "\n",
    "This is a copied version of the Markdown file of the lab to allow for the running of code.\n",
    "\n",
    "I hope you enjoy :)\n",
    "\n"
   ]
  },
  {
   "cell_type": "markdown",
   "id": "e094a04f",
   "metadata": {},
   "source": [
    "## Celsius and Fahrenheit Conversion (Again)\n",
    "\n",
    "In this assignment you will revisit your Celsius-to-Fahrenheit converter program. Go ahead and copy the contents of your last Python file into this assignment. For this assignment, you will be using the various operators to compare inputs and calculated values. Additionally, you will introduce the temperature scale Kelvin.\n"
   ]
  },
  {
   "cell_type": "code",
   "execution_count": 5,
   "id": "50f8612e",
   "metadata": {},
   "outputs": [
    {
     "name": "stdout",
     "output_type": "stream",
     "text": [
      "Please provide a value, in Celsius, to convert:\n",
      "40\n",
      "40.0 degrees Celsius is 104.0 degrees Fahrenheit, which is 313.15 degrees Kelvin.\n"
     ]
    }
   ],
   "source": [
    "# Copy my code over from the previous temperature converter\n",
    "\n",
    "celsius = 0.0 #Establish the container for the Celcius value\n",
    "fahrenheit = 0.0 #Establish the container for the Fahrenheit value\n",
    "kelvin = 0.0 #Establish the container for the Kelvin value\n",
    "\n",
    "text = float(input(\"Please provide a value, in Celsius, to convert:\\n\")) #Take the input from the user for the Celcius value\n",
    "\n",
    "celsius = text #Assign the inputted value to the celsius variable\n",
    "fahrenheit = (9/5) * celsius + 32 #Conversion equation for Celcius to Fahrenheit\n",
    "kelvin = celsius + 273.15\n",
    "\n",
    "print(celsius, \"degrees Celsius is\", fahrenheit, \"degrees Fahrenheit, which is\", kelvin, \"degrees Kelvin.\") #Print out the resulting conversion\n"
   ]
  },
  {
   "cell_type": "markdown",
   "id": "3ef084bc",
   "metadata": {},
   "source": [
    "## Comparison Operators\n",
    "\n",
    "Now that your program is able to generate values for Kelvin, you will further extend the program to compare your temperature values to a second set of temperature values.\n",
    "\n",
    "### Second Set of Variables\n",
    "\n",
    "You will need to create three new variables: 'celsius_two', 'fahrenheit_two', and 'kelvin_two'. You will prompt the user for input (i.e., celsius) like you did above and convert it into Fahrenheit and Kelvin. In a code cell, ouput the new values, similar to what you did previously, only with a slight modification.\n",
    "\n",
    ">Second set of values: *c* degrees Celsius is *f* degrees Fahrenheit which is *k* degrees Kelvin. "
   ]
  },
  {
   "cell_type": "code",
   "execution_count": 6,
   "id": "252b3349",
   "metadata": {},
   "outputs": [
    {
     "name": "stdout",
     "output_type": "stream",
     "text": [
      "Please provide another value, in Celsius, to convert:\n",
      "30\n",
      "Second set of values: 30.0 degrees Celsius is 86.0 degrees Fahrenheit, which is 303.15 degrees Kelvin\n"
     ]
    }
   ],
   "source": [
    "# Great! Now let's add the new variables two get the second value!\n",
    "\n",
    "celsius_two = 0.0\n",
    "fahrenheit_two = 0.0\n",
    "kelvin_two = 0.0\n",
    "\n",
    "text_two = float(input(\"Please provide another value, in Celsius, to convert:\\n\")) #Take the input from the user for the Celcius value\n",
    "\n",
    "celsius_two = text_two #Assign the inputted value to the celsius variable\n",
    "fahrenheit_two = (9/5) * celsius_two + 32 #Conversion equation for Celcius to Fahrenheit\n",
    "kelvin_two = celsius_two + 273.15\n",
    "\n",
    "print(\"Second set of values:\", celsius_two, \"degrees Celsius is\", fahrenheit_two, \"degrees Fahrenheit, which is\",\n",
    "     kelvin_two, \"degrees Kelvin\")"
   ]
  },
  {
   "cell_type": "markdown",
   "id": "33d12958",
   "metadata": {},
   "source": [
    "Great, now we have the original value and the second value! We can now go through and do compare the two different values!"
   ]
  },
  {
   "cell_type": "code",
   "execution_count": 15,
   "id": "39abe488",
   "metadata": {},
   "outputs": [
    {
     "name": "stdout",
     "output_type": "stream",
     "text": [
      "The original Celsius value of 40.0 is greater than the new value of 30.0.\n"
     ]
    }
   ],
   "source": [
    "# Celsius\n",
    "\n",
    "if celsius > celsius_two:\n",
    "    print(f\"The original Celsius value of {celsius} is greater than the new value of {celsius_two}.\")\n",
    "elif celsius < celsius_two:\n",
    "    print(f\"The original Celsius value of {celsius} is smaller than the new value of {celsius_two}.\")\n",
    "elif celsius == celsius_two:\n",
    "    print(f\"The original Celsius value of {celsius} is equal to the new value of {celsius_two}.\")"
   ]
  },
  {
   "cell_type": "code",
   "execution_count": 18,
   "id": "5071bf7e",
   "metadata": {},
   "outputs": [
    {
     "name": "stdout",
     "output_type": "stream",
     "text": [
      "The original Fahrenheit value of 104.0 is greater than new value of 86.0.\n"
     ]
    }
   ],
   "source": [
    "# Fahrenheit\n",
    "\n",
    "if fahrenheit > fahrenheit_two:\n",
    "    print(f\"The original Fahrenheit value of {fahrenheit} is greater than new value of {fahrenheit_two}.\")\n",
    "elif fahrenheit < fahrenheit_two:\n",
    "    print(f\"The original Fahrenheit value of {fahrenheit} is smaller than the new value of {fahrenheit_two}.\")\n",
    "elif fahrenheit == fahrenheit_two:\n",
    "    print(f\"The original Fahrenheit value of {fahrenheit} is equal to the new value of {fahrenheit_two}.\")"
   ]
  },
  {
   "cell_type": "code",
   "execution_count": 19,
   "id": "487b79c8",
   "metadata": {},
   "outputs": [
    {
     "name": "stdout",
     "output_type": "stream",
     "text": [
      "The original Kelvin value of 313.15 is greater than the new value of 303.15.\n"
     ]
    }
   ],
   "source": [
    "# Kelvin\n",
    "\n",
    "if kelvin > kelvin_two:\n",
    "    print(f\"The original Kelvin value of {kelvin} is greater than the new value of {kelvin_two}.\")\n",
    "elif kelvin < kelvin_two:\n",
    "    print(f\"The original Kelvin value of {kelvin} is smaller than the new value of {kelvin_two}.\")\n",
    "elif kelvin == kelvin_two:\n",
    "    print(f\"The original Kelvin value of {kelvin} is equal to the new value of {kelvin_two}.\")"
   ]
  },
  {
   "cell_type": "markdown",
   "id": "8bbd50fc",
   "metadata": {},
   "source": [
    "Expansion: let's now input some basic logic operators upon the temperature conversion!"
   ]
  },
  {
   "cell_type": "code",
   "execution_count": 20,
   "id": "1b8f9bea",
   "metadata": {},
   "outputs": [
    {
     "name": "stdout",
     "output_type": "stream",
     "text": [
      "celsius > celsius_two and fahrenheit > fahrenheit_two\n",
      "Python speaks the truth!\n"
     ]
    }
   ],
   "source": [
    "print(\"celsius > celsius_two and fahrenheit > fahrenheit_two\")\n",
    "if celsius > celsius_two and fahrenheit > fahrenheit_two:\n",
    "    print(\"Python speaks the truth!\")\n",
    "else:\n",
    "    print(\"Python lies.\")"
   ]
  },
  {
   "cell_type": "code",
   "execution_count": 21,
   "id": "eead7716",
   "metadata": {},
   "outputs": [
    {
     "name": "stdout",
     "output_type": "stream",
     "text": [
      "celsius < celsius_two and kelvin == kelvin_tow\n",
      "Python lies.\n"
     ]
    }
   ],
   "source": [
    "print(\"celsius < celsius_two and kelvin == kelvin_tow\")\n",
    "if celsius < celsius_two and kelvin == kelvin_two:\n",
    "    print(\"Python speaks the truth!\")\n",
    "else:\n",
    "    print(\"Python lies.\")"
   ]
  },
 ],
 "metadata": {
  "kernelspec": {
   "display_name": "Python 3 (ipykernel)",
   "language": "python",
   "name": "python3"
  },
  "language_info": {
   "codemirror_mode": {
    "name": "ipython",
    "version": 3
   },
   "file_extension": ".py",
   "mimetype": "text/x-python",
   "name": "python",
   "nbconvert_exporter": "python",
   "pygments_lexer": "ipython3",
   "version": "3.12.3"
  }
 },
 "nbformat": 4,
 "nbformat_minor": 5
}
