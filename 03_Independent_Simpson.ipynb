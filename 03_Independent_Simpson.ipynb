{
 "cells": [
  {
   "cell_type": "markdown",
   "id": "ccb26f9c",
   "metadata": {},
   "source": [
    "# Independent Lab\n",
    "\n",
    "Hello and welcome to my Self-Sevice Kiosk!\n",
    "\n",
    "This example takes a look at a simple vendor that sells fishing gear at low prices. There are only 5 options, as the store has just started selling fishing equipment. I have developed this program to help customers price out and browse the different offerings from the humble fishing store. I hope you enjoy!"
   ]
  },
  {
   "cell_type": "code",
   "execution_count": 20,
   "id": "c6cf4898",
   "metadata": {},
   "outputs": [
    {
     "name": "stdout",
     "output_type": "stream",
     "text": [
      "Here are the ticket options:\n",
      "\n",
      "|1| |Fishing Rod:  |$50.00|\n",
      "|2| |Fishing Lure: |$15.00|\n",
      "|3| |Fishing Reel: |$30.00|\n",
      "|4| |Fishing Net:  |$20.00|\n",
      "|5| |Fishing Line: |$10.00|\n"
     ]
    }
   ],
   "source": [
    "# It has to have 5 different products with their own price\n",
    "\n",
    "    #Fishing Rod:  $50.00\n",
    "    #Fishing Lure: $15.00\n",
    "    #Fishing Reel: $30.00\n",
    "    #Fishing Net:  $20.00\n",
    "    #Fishing Line: #10.00\n",
    "    \n",
    "#Establish all of the variables for the Kiosk, including the items and the prices.\n",
    "    \n",
    "item1 = \"Fishing Rod\"\n",
    "price1 = 50\n",
    "\n",
    "item2 = \"Fishing Lure\"\n",
    "price2 = 15\n",
    "\n",
    "item3 = \"Fishing Reel\"\n",
    "price3 = 30\n",
    "\n",
    "item4 = \"Fishing Net\"\n",
    "price4 = 20\n",
    "\n",
    "item5 = \"Fishing Line\"\n",
    "price5 = 10\n",
    "\n",
    "print(\"Here are the ticket options:\")\n",
    "print(\"\")\n",
    "print(f\"|1| |{item1}:  |${price1}.00|\")\n",
    "print(f\"|2| |{item2}: |${price2}.00|\")\n",
    "print(f\"|3| |{item3}: |${price3}.00|\")\n",
    "print(f\"|4| |{item4}:  |${price4}.00|\")\n",
    "print(f\"|5| |{item5}: |${price5}.00|\")"
   ]
  },
  {
   "cell_type": "code",
   "execution_count": 43,
   "id": "739738d4",
   "metadata": {},
   "outputs": [
    {
     "name": "stdout",
     "output_type": "stream",
     "text": [
      "Please select a product (1-5): 1\n",
      "Please select the quantity: 2\n",
      "You want: Fishing Rod, Quantity: 2. Enter 1 to confirm; otherwise, if you would like to add to your order, please select 2: 1\n",
      "Here is a Summary of your final order:\n",
      "\n",
      "|1| |Fishing Rod: |2|\n",
      "\n",
      "The total cost for your order is: $100.00\n"
     ]
    }
   ],
   "source": [
    "#Establish the base variables for the whole order\n",
    "totalprice = 0.0\n",
    "addedprice = 0.0\n",
    "quantities = [0, 0, 0, 0, 0]  # List to hold quantities for products 1-5\n",
    "\n",
    "#Establish the products and the prices for selection\n",
    "products = [item1, item2, item3, item4, item5]\n",
    "prices = [price1, price2, price3, price4, price5]\n",
    "\n",
    "#Get the user input for the product and the quantity\n",
    "text_product = int(input(\"Please select a product (1-5): \"))\n",
    "text_quantity = int(input(\"Please select the quantity: \"))\n",
    "\n",
    "# Validate product selection and update the associated variables\n",
    "if 1 <= text_product <= 5: # This line needs to be added to verify the input. It can be thought of as a simplified try catch\n",
    "    addedprice = prices[text_product - 1] * text_quantity  # Calculate the added price for the total. Notes the '-1' is to handle the delimination\n",
    "    quantities[text_product - 1] += text_quantity  # Update quantity for the selected product\n",
    "\n",
    "# Get confirmation from the customer    \n",
    "    confirm_text = input(f\"You want: {products[text_product - 1]}, Quantity: {text_quantity}. Enter 1 to confirm; otherwise, if you would like to add to your order, please select 2: \")\n",
    "\n",
    "# Handle the confirmation for the user whether or not they would like to add to their order. \n",
    "    \n",
    "    if confirm_text == '1':  # Handles the finishing of the order\n",
    "        totalprice += addedprice  # Adds the added price to the total price\n",
    "    \n",
    "    elif confirm_text == '2':  # Handles the adding of another product\n",
    "\n",
    "# We need to create a loop to then allow the user to consistently add products if they would like\n",
    "        while True:\n",
    "            text_product = int(input(\"Please select a product (1-5): \"))\n",
    "            text_quantity = int(input(\"Please select the quantity: \"))\n",
    "            if 1 <= text_product <= 5:\n",
    "                addedprice = prices[text_product - 1] * text_quantity\n",
    "                quantities[text_product - 1] += text_quantity\n",
    "                totalprice += addedprice  # Update total price\n",
    "            else:\n",
    "                print(\"Invalid product selection. Please select a product (1-5).\")\n",
    "                continue\n",
    "            \n",
    "            confirm_text = input(f\"You want: {products[text_product - 1]}, Quantity: {text_quantity}. Enter 1 to confirm; otherwise, if you would like to add to your order, please select 2: \")\n",
    "            if confirm_text == '1':\n",
    "                break  # Exit the loop\n",
    "            elif confirm_text != '2':\n",
    "                print(\"Invalid input. Please enter 1 to confirm or 2 to add another product.\")\n",
    "                continue\n",
    "\n",
    "    # Print summary of the order\n",
    "    print(\"Here is a Summary of your final order:\")\n",
    "    print(\"\")\n",
    "    for i in range(5):\n",
    "        if quantities[i] > 0:  # Only print products that were ordered\n",
    "            print(f\"|{i + 1}| |{products[i]}: |{quantities[i]}|\")\n",
    "    print(\"\")\n",
    "    print(f\"The total cost for your order is: ${totalprice:.2f}\")\n",
    "else:\n",
    "    print(\"Invalid product selection. Please select a product (1-5).\")"
   ]
  },
  {
   "cell_type": "markdown",
   "id": "e9a0e0d8",
   "metadata": {},
   "source": [
    "Thank you for using my self-service kiosk! The code for this is a little more complex then last weeks. To allow the user to continuously add items to the order, we needed to incorperate a loop. Overall, this simple kiosk should allow customers to get an idea of thenot only the products, but the estimated total cost as well. I hope you enjoyed!"
   ]
  }
 ],
 "metadata": {
  "kernelspec": {
   "display_name": "Python 3 (ipykernel)",
   "language": "python",
   "name": "python3"
  },
  "language_info": {
   "codemirror_mode": {
    "name": "ipython",
    "version": 3
   },
   "file_extension": ".py",
   "mimetype": "text/x-python",
   "name": "python",
   "nbconvert_exporter": "python",
   "pygments_lexer": "ipython3",
   "version": "3.12.3"
  }
 },
 "nbformat": 4,
 "nbformat_minor": 5
}
